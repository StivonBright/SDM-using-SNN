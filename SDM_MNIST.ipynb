{
 "cells": [
  {
   "cell_type": "code",
   "execution_count": 2,
   "id": "dce617a6",
   "metadata": {},
   "outputs": [],
   "source": [
    "import tensorflow as tf\n",
    "import numpy as np\n",
    "from matplotlib import pyplot as plt"
   ]
  },
  {
   "cell_type": "code",
   "execution_count": 3,
   "id": "93155af4",
   "metadata": {},
   "outputs": [],
   "source": [
    "mnist = tf.keras.datasets.mnist\n",
    "# Load the MNIST dataset\n",
    "(x_train,y_train) , (x_test,y_test) = mnist.load_data()"
   ]
  },
  {
   "cell_type": "code",
   "execution_count": 4,
   "id": "e0e1cd5b",
   "metadata": {},
   "outputs": [],
   "source": [
    "x_t_14 = np.empty(shape=[0,28])\n",
    "y_t = np.empty(shape=[0,10])\n",
    "\n",
    "# Process the dataset into 14 of 28 form\n",
    "\n",
    "for i in y_train:\n",
    "    x=np.zeros(10)\n",
    "    x[i]=1\n",
    "    y_t = np.append(y_t, x)\n",
    "\n",
    "for i in x_train:\n",
    "    temp = []\n",
    "    for x in i:\n",
    "        temp.append(sum(x))\n",
    "    temp_arg = np.argsort(temp)\n",
    "    for x in range(len(temp_arg)):\n",
    "        if temp_arg[x] < 14:\n",
    "            temp[x] = 1\n",
    "        else:\n",
    "            temp[x] = 0\n",
    "    x_t_14 = np.append(x_t_14, temp)\n",
    "    \n",
    "x_t_14 = x_t_14.reshape(60000,28)\n",
    "y_t = y_t.reshape(60000,10)"
   ]
  },
  {
   "cell_type": "code",
   "execution_count": 30,
   "id": "90b936f9",
   "metadata": {},
   "outputs": [],
   "source": [
    "#Creates the model for training\n",
    "model = tf.keras.Sequential()\n",
    "model.add(tf.keras.layers.Dense(100, input_shape=(28,),activation='relu',trainable=False))\n",
    "model.add(tf.keras.layers.Dense(10, activation='softmax')) \n",
    "model.compile(optimizer='adam', loss='categorical_crossentropy', metrics=['accuracy'])"
   ]
  },
  {
   "cell_type": "code",
   "execution_count": 35,
   "id": "c1fa741a",
   "metadata": {},
   "outputs": [
    {
     "name": "stdout",
     "output_type": "stream",
     "text": [
      "The Accuracy of 14 0f 28 by sum with 100 neurons trained on 10  samples : 100 %\n",
      "The Accuracy of 14 0f 28 by sum with 100 neurons trained on 20  samples : 100 %\n",
      "The Accuracy of 14 0f 28 by sum with 100 neurons trained on 30  samples : 100 %\n",
      "The Accuracy of 14 0f 28 by sum with 100 neurons trained on 40  samples : 95 %\n",
      "The Accuracy of 14 0f 28 by sum with 100 neurons trained on 50  samples : 96 %\n",
      "The Accuracy of 14 0f 28 by sum with 100 neurons trained on 60  samples : 93 %\n",
      "The Accuracy of 14 0f 28 by sum with 100 neurons trained on 70  samples : 93 %\n",
      "The Accuracy of 14 0f 28 by sum with 100 neurons trained on 80  samples : 91 %\n",
      "The Accuracy of 14 0f 28 by sum with 100 neurons trained on 90  samples : 93 %\n",
      "The Accuracy of 14 0f 28 by sum with 100 neurons trained on 100  samples : 93 %\n"
     ]
    }
   ],
   "source": [
    "# We loop through the subsets of training dataset in iterations of step_size\n",
    "# We then train the model on the subset but the accuracy is measured against the samples \n",
    "# already stored in previous iterations \n",
    "p_x = []\n",
    "p_y = []\n",
    "step_size = 10\n",
    "for j in range(0,100,step_size):\n",
    "    x = x_t_14[j:j+step_size]\n",
    "    y = y_t[j:j+step_size]\n",
    "    model.fit(x, y, epochs=30, batch_size=10, verbose=0)\n",
    "    y_results = model.predict(x_t_14[:j+step_size],verbose=0)\n",
    "    sol = 0\n",
    "    # You can note in the loop below that we check the top 3 indices to see whether any of them is right. \n",
    "    for k in range(j+step_size):\n",
    "        if np.argmax(y_results[k]) == y_train[k]:\n",
    "            sol+=1\n",
    "            continue\n",
    "        y_results[k][np.argmax(y_results[k])] = 0\n",
    "        if np.argmax(y_results[k]) == y_train[k]:\n",
    "            sol+=1\n",
    "            continue\n",
    "        y_results[k][np.argmax(y_results[k])] = 0\n",
    "        if np.argmax(y_results[k]) == y_train[k]:\n",
    "            sol+=1\n",
    "            continue\n",
    "            \n",
    "    print(\"The Accuracy of 14 0f 28 by sum with 100 neurons trained on\",j+step_size,\" samples :\",round((sol/(j+step_size))*100),\"%\")\n",
    "    p_y.append(round((sol/(j+step_size))*100))\n",
    "    p_x.append(j+step_size)"
   ]
  },
  {
   "cell_type": "code",
   "execution_count": 36,
   "id": "035d0984",
   "metadata": {},
   "outputs": [
    {
     "data": {
      "image/png": "[encoded data removed]",
      "text/plain": [
       "<Figure size 432x288 with 1 Axes>"
      ]
     },
     "metadata": {
      "needs_background": "light"
     },
     "output_type": "display_data"
    }
   ],
   "source": [
    "#To plot the graph that shows the percentage of retention\n",
    "\n",
    "ax = plt.gca()\n",
    "ax.set_ylim([0, 100])\n",
    "ax.set\n",
    "plt.xlabel(\"Samples stored\")\n",
    "plt.ylabel(\"Percentage of samples retained in memory\")\n",
    "plt.plot(p_x,p_y);"
   ]
  },
  {
   "cell_type": "code",
   "execution_count": 39,
   "id": "534a19e8",
   "metadata": {},
   "outputs": [
    {
     "name": "stdout",
     "output_type": "stream",
     "text": [
      "For Training Data:\n",
      "(14 0f 28 by sum with 100 neurons) Predicted value : 7  Actual value : 7\n"
     ]
    },
    {
     "data": {
      "image/png": "[encoded data removed]",
      "text/plain": [
       "<Figure size 432x288 with 1 Axes>"
      ]
     },
     "metadata": {
      "needs_background": "light"
     },
     "output_type": "display_data"
    }
   ],
   "source": [
    "# The interactive part here uses the training dataset whether the SDM is correct.\n",
    "\n",
    "i = np.random.randint(len(x_train))\n",
    "temp = []\n",
    "for x in x_train[i]:\n",
    "    temp.append(sum(x))\n",
    "    temp_arg = np.argsort(temp)\n",
    "for x in range(len(temp_arg)):\n",
    "    if temp_arg[x] < 14:\n",
    "            temp[x] = 1\n",
    "    else:\n",
    "            temp[x] = 0\n",
    "\n",
    "result = model.predict(np.array([temp], dtype=np.float32), verbose=0)\n",
    "print(\"For Training Data:\")\n",
    "print(\"(14 0f 28 by sum with 100 neurons) Predicted value :\",np.argmax(result),\" Actual value :\",y_train[i])\n",
    "plt.imshow(x_train[i], cmap = 'magma')\n",
    "plt.show()"
   ]
  }
 ],
 "metadata": {
  "kernelspec": {
   "display_name": "Python 3",
   "language": "python",
   "name": "python3"
  },
  "language_info": {
   "codemirror_mode": {
    "name": "ipython",
    "version": 3
   },
   "file_extension": ".py",
   "mimetype": "text/x-python",
   "name": "python",
   "nbconvert_exporter": "python",
   "pygments_lexer": "ipython3",
   "version": "3.8.3"
  }
 },
 "nbformat": 4,
 "nbformat_minor": 5
}
