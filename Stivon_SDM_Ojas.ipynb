{
 "cells": [
  {
   "cell_type": "code",
   "execution_count": 3,
   "id": "77a5ca08",
   "metadata": {},
   "outputs": [],
   "source": [
    "from brian2 import *\n",
    "%matplotlib inline\n",
    "import os,random"
   ]
  },
  {
   "cell_type": "code",
   "execution_count": 57,
   "id": "1d604141",
   "metadata": {},
   "outputs": [],
   "source": [
    "# Changing the time step of Brian Simulator for better resolution\n",
    "sim_time = 400 * ms\n",
    "time_step = 0.001 * ms\n",
    "defaultclock.dt = time_step\n",
    "num_neurons = 34 * 34\n",
    "n_of_m =100\n",
    "file_loc = \"D://Download/N-MNIST/Train/\"\n",
    "time_dur = []\n",
    "spike_digits = []\n",
    "tot_spike_index = []\n",
    "tot_spike_time = []\n",
    "iterations = 20\n",
    "accu_time = 0\n",
    "interval_time = 20000\n",
    "\n",
    "\n",
    "# This chooses NMNIST sample file from the folders at random\n",
    "for z in range(iterations):\n",
    "    digit = random.choice(os.listdir(file_loc))\n",
    "    Bytes = numpy.fromfile(file_loc+'/'+digit+'/'+random.choice(os.listdir(file_loc+'/'+digit)), dtype = \"uint8\")\n",
    "    spike_digits.append(int(digit))\n",
    "    Bits = numpy.unpackbits(Bytes)\n",
    "    Bits = Bits.reshape(int(len(Bits)/40), 40)\n",
    "\n",
    "    counter_n = 0\n",
    "    spike_time = []\n",
    "    spike_index = []\n",
    "    uniq = np.zeros(num_neurons)\n",
    "\n",
    "    for q in Bits:\n",
    "            if(counter_n>=n_of_m):\n",
    "                break\n",
    "            q  = np.flip(q)\n",
    "            tmp = q[:23]\n",
    "            time_stamp = tmp.dot(1 << np.arange(tmp.shape[-1])) \n",
    "            tmp =  q[24:32]\n",
    "            y = tmp.dot(1 << np.arange(tmp.shape[-1]))\n",
    "            tmp = q[32:]\n",
    "            x = tmp.dot(1 << np.arange(tmp.shape[-1]))\n",
    "            ind = (y*34) + x\n",
    "            if(uniq[ind]==0):\n",
    "                counter_n += 1\n",
    "                uniq[ind] = 1\n",
    "                spike_time.append((int)(accu_time+time_stamp))\n",
    "                spike_index.append(ind)\n",
    "    j= []\n",
    "    accu_time += time_stamp + interval_time\n",
    "    for a in spike_time:\n",
    "        j.append(a+time_stamp + interval_time)   \n",
    "    time_dur.append(time_stamp)\n",
    "    accu_time += time_stamp + interval_time\n",
    "    tot_spike_time = tot_spike_time + spike_time + j\n",
    "    tot_spike_index = tot_spike_index + spike_index + spike_index\n",
    "    \n",
    "tot_spike_time *= time_step"
   ]
  },
  {
   "cell_type": "code",
   "execution_count": 58,
   "id": "9d31fff0",
   "metadata": {},
   "outputs": [],
   "source": [
    "vt = -54*mV\n",
    "vr = -60*mV\n",
    "El = -74*mV\n",
    "\n",
    "tau_pre = 16*ms\n",
    "\n",
    "gmax = 14\n",
    "# gmax is ceiling for the weights\n",
    "\n",
    "tau_ojas = 40\n",
    "alpha = 0.5\n",
    "\n",
    "# rates (Hz) is a neuronal variable that determines the frequency at which it spikes regardless of stimuli (0 by default)\n",
    "eqs_stdp = '''\n",
    "dv/dt = ( El - v) / tau_pre : volt (unless refractory)\n",
    "rates : Hz\n",
    "'''\n",
    "\n",
    "SG = SpikeGeneratorGroup(num_neurons, tot_spike_index, tot_spike_time)\n",
    "add = NeuronGroup(10000, eqs_stdp,reset='v=vr',threshold='v>vt', refractory= 1 * ms ,method='euler')\n",
    "G2 = NeuronGroup(10, eqs_stdp,reset='v=vr',threshold='rand()<rates*dt or v>vt', refractory= 1 * ms, method='euler')\n",
    "\n",
    "add.v = vr\n",
    "G2.v = vr\n",
    "\n",
    "Sy = Synapses(SG, add,\n",
    "             'w:volt',\n",
    "             on_pre='v_post += w',\n",
    "             )\n",
    "\n",
    "Sy.connect(p=0.002)\n",
    "Sy.w = gmax * mV\n",
    "\n",
    "Sy2 = Synapses(add, G2,\n",
    "             '''w : 1''',\n",
    "             on_pre='''v_post += w*mV''')\n",
    "\n",
    "#Synapses are connected and weights set to zero\n",
    "Sy2.connect()\n",
    "Sy2.w = 0\n",
    "\n",
    "S1 = SpikeMonitor(SG)\n",
    "S2 = SpikeMonitor(G2)"
   ]
  },
  {
   "cell_type": "code",
   "execution_count": 59,
   "id": "6f9156fa",
   "metadata": {
    "scrolled": true
   },
   "outputs": [
    {
     "name": "stdout",
     "output_type": "stream",
     "text": [
      "Starting simulation at t=0. s for a duration of 65. ms\n",
      "65. ms (100%) simulated in 7s\n",
      "Starting simulation at t=65. ms for a duration of 65. ms\n",
      "65. ms (100%) simulated in 6s\n",
      "Starting simulation at t=130. ms for a duration of 43. ms\n",
      "43. ms (100%) simulated in 4s\n",
      "Starting simulation at t=173. ms for a duration of 43. ms\n",
      "43. ms (100%) simulated in 4s\n",
      "Starting simulation at t=216. ms for a duration of 47. ms\n",
      "47. ms (100%) simulated in 4s\n",
      "Starting simulation at t=263. ms for a duration of 47. ms\n",
      "47. ms (100%) simulated in 4s\n",
      "Starting simulation at t=310. ms for a duration of 38. ms\n",
      "38. ms (100%) simulated in 4s\n",
      "Starting simulation at t=0.348 s for a duration of 38. ms\n",
      "38. ms (100%) simulated in 4s\n",
      "Starting simulation at t=0.386 s for a duration of 37. ms\n",
      "37. ms (100%) simulated in 3s\n",
      "Starting simulation at t=0.423 s for a duration of 37. ms\n",
      "37. ms (100%) simulated in 3s\n",
      "Starting simulation at t=0.46 s for a duration of 49. ms\n",
      "49. ms (100%) simulated in 5s\n",
      "Starting simulation at t=0.509 s for a duration of 49. ms\n",
      "49. ms (100%) simulated in 5s\n",
      "Starting simulation at t=0.558 s for a duration of 39. ms\n",
      "39. ms (100%) simulated in 4s\n",
      "Starting simulation at t=0.597 s for a duration of 39. ms\n",
      "39. ms (100%) simulated in 4s\n",
      "Starting simulation at t=0.636 s for a duration of 51. ms\n",
      "51. ms (100%) simulated in 5s\n",
      "Starting simulation at t=0.687 s for a duration of 51. ms\n",
      "51. ms (100%) simulated in 5s\n",
      "Starting simulation at t=0.738 s for a duration of 39. ms\n",
      "39. ms (100%) simulated in 4s\n",
      "Starting simulation at t=0.777 s for a duration of 39. ms\n",
      "39. ms (100%) simulated in 4s\n",
      "Starting simulation at t=0.816 s for a duration of 50. ms\n",
      "50. ms (100%) simulated in 5s\n",
      "Starting simulation at t=0.866 s for a duration of 50. ms\n",
      "50. ms (100%) simulated in 5s\n",
      "Starting simulation at t=0.916 s for a duration of 48. ms\n",
      "48. ms (100%) simulated in 5s\n",
      "Starting simulation at t=0.964 s for a duration of 48. ms\n",
      "48. ms (100%) simulated in 5s\n",
      "Starting simulation at t=1.012 s for a duration of 48. ms\n",
      "48. ms (100%) simulated in 5s\n",
      "Starting simulation at t=1.06 s for a duration of 48. ms\n",
      "48. ms (100%) simulated in 5s\n",
      "Starting simulation at t=1.108 s for a duration of 39. ms\n",
      "39. ms (100%) simulated in 4s\n",
      "Starting simulation at t=1.147 s for a duration of 39. ms\n",
      "39. ms (100%) simulated in 4s\n",
      "Starting simulation at t=1.186 s for a duration of 39. ms\n",
      "39. ms (100%) simulated in 4s\n",
      "Starting simulation at t=1.225 s for a duration of 39. ms\n",
      "39. ms (100%) simulated in 4s\n",
      "Starting simulation at t=1.264 s for a duration of 55. ms\n",
      "55. ms (100%) simulated in 5s\n",
      "Starting simulation at t=1.319 s for a duration of 55. ms\n",
      "55. ms (100%) simulated in 5s\n",
      "Starting simulation at t=1.374 s for a duration of 37. ms\n",
      "37. ms (100%) simulated in 3s\n",
      "Starting simulation at t=1.411 s for a duration of 37. ms\n",
      "37. ms (100%) simulated in 3s\n",
      "Starting simulation at t=1.448 s for a duration of 42. ms\n",
      "42. ms (100%) simulated in 4s\n",
      "Starting simulation at t=1.49 s for a duration of 42. ms\n",
      "42. ms (100%) simulated in 4s\n",
      "Starting simulation at t=1.532 s for a duration of 51. ms\n",
      "51. ms (100%) simulated in 5s\n",
      "Starting simulation at t=1.583 s for a duration of 51. ms\n",
      "51. ms (100%) simulated in 5s\n",
      "Starting simulation at t=1.634 s for a duration of 39. ms\n",
      "39. ms (100%) simulated in 4s\n",
      "Starting simulation at t=1.673 s for a duration of 39. ms\n",
      "39. ms (100%) simulated in 4s\n",
      "Starting simulation at t=1.712 s for a duration of 47. ms\n",
      "47. ms (100%) simulated in 5s\n",
      "Starting simulation at t=1.759 s for a duration of 47. ms\n",
      "47. ms (100%) simulated in 4s\n"
     ]
    }
   ],
   "source": [
    "for z in range(iterations):    \n",
    "    G2[spike_digits[z]].rates = 80*Hz\n",
    "    #Setting external stimuli for output layer\n",
    "    S4 = SpikeMonitor(G2)\n",
    "    S3 = SpikeMonitor(add)\n",
    "    run(((time_dur[z]+interval_time)//1000) * ms, report = 'text')\n",
    "    # Updating weights with Oja's rule\n",
    "    Sy2.w[:, int(spike_digits[z])] += (1000/25)*(1/tau_ojas)*(S3.count[:]*S4.count[int(spike_digits[z])] - alpha * (Sy2.w[:, int(spike_digits[z])]) * (S4.count[int(spike_digits[z])]**2))\n",
    "    Sy2.w = np.clip(Sy2.w, -gmax, gmax)\n",
    "    # Setting it back to 0 while reading\n",
    "    G2.rates = 0 * Hz\n",
    "    run(((time_dur[z]+interval_time)//1000) * ms, report = 'text')"
   ]
  },
  {
   "cell_type": "code",
   "execution_count": 60,
   "id": "814ef476",
   "metadata": {},
   "outputs": [],
   "source": [
    "# This makes the list of predictions from the STP\n",
    "# Note that the below code works on the assumption that at least one neuron of the output layer spikes during reading\n",
    "\n",
    "c = 0\n",
    "d = (interval_time+time_dur[c])//1000\n",
    "predictions1 = []\n",
    "predictions2 = []\n",
    "predictions3 = []\n",
    "spike_list = [0,0,0,0,0,0,0,0,0,0]\n",
    "for z in range(len(S2.t/ms)):\n",
    "    \n",
    "    if(S2.t[z]/ms>d and S2.t[z]/ms<d+(interval_time+time_dur[c])//1000):\n",
    "        spike_list[S2.i[z]]+=1\n",
    "        \n",
    "    elif(S2.t[z]/ms>d+(interval_time+time_dur[c])//1000):\n",
    "        \n",
    "        while(S2.t[z]/ms>d+(interval_time+time_dur[c])//1000):\n",
    "            d += 2 * (interval_time+time_dur[c])//1000\n",
    "            c+=1\n",
    "\n",
    "        predictions1.append(np.argmax(spike_list))\n",
    "        spike_list[np.argmax(spike_list)] = 0\n",
    "        predictions2.append(np.argmax(spike_list))\n",
    "        spike_list[np.argmax(spike_list)] = 0\n",
    "        predictions3.append(np.argmax(spike_list))\n",
    "        spike_list = [0,0,0,0,0,0,0,0,0,0]\n",
    "        \n",
    "predictions1.append(np.argmax(spike_list))\n",
    "spike_list[np.argmax(spike_list)] = 0\n",
    "predictions2.append(np.argmax(spike_list))\n",
    "spike_list[np.argmax(spike_list)] = 0\n",
    "predictions3.append(np.argmax(spike_list))"
   ]
  },
  {
   "cell_type": "code",
   "execution_count": 61,
   "id": "a6ec1d5a",
   "metadata": {
    "scrolled": true
   },
   "outputs": [
    {
     "data": {
      "image/png": "[encoded data removed]",
      "text/plain": [
       "<Figure size 432x288 with 1 Axes>"
      ]
     },
     "metadata": {
      "needs_background": "light"
     },
     "output_type": "display_data"
    }
   ],
   "source": [
    "# Plotting output layer\n",
    "plot(S2.t/ms, S2.i, '|')\n",
    "xlabel('Time (ms)')\n",
    "ylabel('index');"
   ]
  },
  {
   "cell_type": "code",
   "execution_count": 62,
   "id": "1e80dd06",
   "metadata": {},
   "outputs": [
    {
     "data": {
      "image/png": "[encoded data removed]",
      "text/plain": [
       "<Figure size 432x288 with 1 Axes>"
      ]
     },
     "metadata": {
      "needs_background": "light"
     },
     "output_type": "display_data"
    }
   ],
   "source": [
    "# Plotting the input spike trains\n",
    "plot(S1.t/ms, S1.i, '|')\n",
    "xlabel('Time (ms)')\n",
    "ylabel('index');"
   ]
  },
  {
   "cell_type": "code",
   "execution_count": 63,
   "id": "1758f912",
   "metadata": {
    "scrolled": true
   },
   "outputs": [
    {
     "data": {
      "image/png": "[encoded data removed]",
      "text/plain": [
       "<Figure size 432x288 with 1 Axes>"
      ]
     },
     "metadata": {
      "needs_background": "light"
     },
     "output_type": "display_data"
    }
   ],
   "source": [
    "# Plotting the performance graph\n",
    "tot_dig = 0\n",
    "corr = 0\n",
    "recall = [100]\n",
    "for z in range(len(spike_digits)):\n",
    "    if(predictions1[z]==spike_digits[z] or predictions2[z]==spike_digits[z] or predictions3[z]==spike_digits[z]):\n",
    "        corr += 1\n",
    "    tot_dig += 1\n",
    "    recall.append((100*corr)/tot_dig)\n",
    "\n",
    "plot(recall)\n",
    "xlabel('No. of digits')\n",
    "ylabel('Recall');  "
   ]
  },
  {
   "cell_type": "code",
   "execution_count": 66,
   "id": "0e54f3bd",
   "metadata": {
    "scrolled": true
   },
   "outputs": [
    {
     "data": {
      "image/png": "[encoded data removed]",
      "text/plain": [
       "<Figure size 432x288 with 1 Axes>"
      ]
     },
     "metadata": {
      "needs_background": "light"
     },
     "output_type": "display_data"
    }
   ],
   "source": [
    "# Plotting the middle layer\n",
    "plot(S3.t/ms, S3.i, '|')\n",
    "xlabel('Time (ms)')\n",
    "ylabel('index');"
   ]
  }
 ],
 "metadata": {
  "kernelspec": {
   "display_name": "Python 3",
   "language": "python",
   "name": "python3"
  },
  "language_info": {
   "codemirror_mode": {
    "name": "ipython",
    "version": 3
   },
   "file_extension": ".py",
   "mimetype": "text/x-python",
   "name": "python",
   "nbconvert_exporter": "python",
   "pygments_lexer": "ipython3",
   "version": "3.8.3"
  }
 },
 "nbformat": 4,
 "nbformat_minor": 5
}
