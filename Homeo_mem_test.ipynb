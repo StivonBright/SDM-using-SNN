{
 "cells": [
  {
   "cell_type": "code",
   "execution_count": 1,
   "id": "17e693d2",
   "metadata": {},
   "outputs": [],
   "source": [
    "from brian2 import *\n",
    "%matplotlib inline\n",
    "import os,random"
   ]
  },
  {
   "cell_type": "code",
   "execution_count": 2,
   "id": "00ec1599",
   "metadata": {},
   "outputs": [],
   "source": [
    "sim_time = 400 * ms\n",
    "time_step = 0.001 * ms\n",
    "defaultclock.dt = time_step\n",
    "num_neurons = 34 * 34\n",
    "n_of_m = 100\n",
    "file_loc = \"D://Download/N-MNIST/Train/\"\n",
    "time_dur = []\n",
    "spike_digits = []\n",
    "tot_spike_index = []\n",
    "tot_spike_time = []\n",
    "iterations = 3\n",
    "accu_time = 0\n",
    "\n",
    "\n",
    "for z in range(iterations):\n",
    "    digit = random.choice(os.listdir(file_loc))\n",
    "    Bytes = numpy.fromfile(file_loc+'/'+digit+'/'+random.choice(os.listdir(file_loc+'/'+digit)), dtype = \"uint8\")\n",
    "    spike_digits.append(int(digit))\n",
    "    Bits = numpy.unpackbits(Bytes)\n",
    "    Bits = Bits.reshape(int(len(Bits)/40), 40)\n",
    "\n",
    "    counter_n = 0\n",
    "    spike_time = []\n",
    "    spike_index = []\n",
    "    uniq = np.zeros(num_neurons)\n",
    "\n",
    "    for q in Bits:\n",
    "            if(counter_n>=n_of_m):\n",
    "                break\n",
    "            q  = np.flip(q)\n",
    "            tmp = q[:23]\n",
    "            time_stamp = tmp.dot(1 << np.arange(tmp.shape[-1])) \n",
    "            tmp =  q[24:32]\n",
    "            y = tmp.dot(1 << np.arange(tmp.shape[-1]))\n",
    "            tmp = q[32:]\n",
    "            x = tmp.dot(1 << np.arange(tmp.shape[-1]))\n",
    "            ind = (y*34) + x\n",
    "            if(uniq[ind]==0):\n",
    "                counter_n += 1\n",
    "                uniq[ind] = 1\n",
    "                spike_time.append((int)(accu_time+time_stamp))\n",
    "                spike_index.append(ind)\n",
    "    j= []\n",
    "    accu_time += time_stamp + 10000\n",
    "    for a in spike_time:\n",
    "        j.append(a+time_stamp + 10000)   \n",
    "    time_dur.append(time_stamp)\n",
    "    accu_time += time_stamp + 10000\n",
    "    tot_spike_time = tot_spike_time + spike_time + j\n",
    "    tot_spike_index = tot_spike_index + spike_index + spike_index\n",
    "    \n",
    "tot_spike_time *= time_step"
   ]
  },
  {
   "cell_type": "code",
   "execution_count": 3,
   "id": "01457bcc",
   "metadata": {},
   "outputs": [],
   "source": [
    "V_rest = -70.*mV        # resting potential\n",
    "V_thresh = -55.*mV      # spiking threshold\n",
    "Theta_low = V_rest      # depolarization threshold for plasticity\n",
    "x_reset = 1.            # spike trace reset value\n",
    "taux = 5.*ms           # spike trace time constant\n",
    "A_LTD = 1.5e-4          # depression amplitude\n",
    "A_LTP = 1.5e-2          # potentiation amplitude\n",
    "tau_lowpass1 = 4*ms    # timeconstant for low-pass filtered voltage\n",
    "tau_lowpass2 = 3*ms    # timeconstant for low-pass filtered voltage\n",
    "tau_homeo = 100*ms     # homeostatic timeconstant\n",
    "v_target = 12*mV**2     # target depolarisation\n",
    "gleak = 30.*nS                  # leak conductance\n",
    "C = 300.*pF                     # membrane capacitance\n",
    "tau_AMPA = 2.*ms                # AMPA synaptic timeconstant\n",
    "E_AMPA = 0.*mV                  # reversal potential AMPA\n",
    "\n",
    "ampa_max_cond = 5.e-8*siemens  # Ampa maximal conductance\n",
    "w_max = 1.                      # maximal ampa weight\n",
    "init_weight = 0            # initial synaptic weight\n",
    "\n",
    "Syn_model =   ('''\n",
    "            w_ampa:1                # synaptic weight (ampa synapse)\n",
    "            ''')\n",
    "\n",
    "Pre_eq = ('''\n",
    "            g_ampa_post += w_ampa*ampa_max_cond                                                               # increment synaptic conductance\n",
    "            A_LTD_u = A_LTD*(v_homeo**2/v_target)                                                             # metaplasticity\n",
    "            w_minus = A_LTD_u*(v_lowpass1_post/mV - Theta_low/mV)*int(v_lowpass1_post/mV - Theta_low/mV > 0)  # synaptic depression\n",
    "            w_ampa = clip(w_ampa-w_minus, 0, w_max)                                                           # hard bounds\n",
    "            ''' )\n",
    "\n",
    "Post_eq = ('''\n",
    "            v_lowpass1 += 10*mV                                                                                        # mimics the depolarisation effect due to a spike\n",
    "            v_lowpass2 += 10*mV                                                                                        # mimics the depolarisation effect due to a spike\n",
    "            v_homeo += 0.1*mV                                                                                          # mimics the depolarisation effect due to a spike\n",
    "            w_plus = A_LTP*x_trace_pre*(v_lowpass2_post/mV - Theta_low/mV)*int(v_lowpass2_post/mV - Theta_low/mV > 0)  # synaptic potentiation\n",
    "            w_ampa = clip(w_ampa+w_plus, 0, w_max)                                                                     # hard bounds\n",
    "            ''' )\n",
    "\n",
    "eqs_neurons = '''\n",
    "dv/dt = (gleak*(V_rest-v) + I_ext + I_syn)/C: volt      # voltage\n",
    "dv_lowpass1/dt = (v-v_lowpass1)/tau_lowpass1 : volt     # low-pass filter of the voltage\n",
    "dv_lowpass2/dt = (v-v_lowpass2)/tau_lowpass2 : volt     # low-pass filter of the voltage\n",
    "dv_homeo/dt = (v-V_rest-v_homeo)/tau_homeo : volt       # low-pass filter of the voltage\n",
    "I_ext : amp                                             # external current\n",
    "I_syn = g_ampa*(E_AMPA-v): amp                          # synaptic current\n",
    "dg_ampa/dt = -g_ampa/tau_AMPA : siemens                 # synaptic conductance\n",
    "dx_trace/dt = -x_trace/taux :1                          # spike trace\n",
    "rates : Hz\n",
    "'''"
   ]
  },
  {
   "cell_type": "code",
   "execution_count": 4,
   "id": "a97df143",
   "metadata": {},
   "outputs": [],
   "source": [
    "tau_pre = 60*ms\n",
    "\n",
    "vt = -54*mV\n",
    "vr = -60*mV\n",
    "El = -74*mV\n",
    "\n",
    "eqs_neurons_pre = '''\n",
    "dv/dt = ( El - v) / tau_pre : volt (unless refractory)\n",
    "dx_trace/dt = -x_trace/taux :1    \n",
    "'''\n",
    "\n",
    "\n",
    "SG = SpikeGeneratorGroup(num_neurons, tot_spike_index, tot_spike_time)\n",
    "add = NeuronGroup(10000, eqs_neurons_pre,reset='v=vr;x_trace+=x_reset/(taux/ms)',threshold='v>vt', refractory=time_step*2 ,method='euler')\n",
    "G2 = NeuronGroup(10,eqs_neurons, threshold='v>V_thresh or rand()<rates*dt',\n",
    "                             reset='v=V_rest;x_trace+=x_reset/(taux/ms)',\n",
    "                             refractory=time_step*10,\n",
    "                             method='euler')\n",
    "\n",
    "add.v = vr\n",
    "G2.v = V_rest\n",
    "\n",
    "Sy = Synapses(SG, add,\n",
    "             'w:volt',\n",
    "             on_pre='v_post += w',\n",
    "             )\n",
    "Sy.connect(p=0.0002)\n",
    "Sy.w = 10 * mV\n",
    "\n",
    "\n",
    "Sy2 = Synapses(add, G2,\n",
    "               model=Syn_model,\n",
    "               on_pre=Pre_eq,\n",
    "               on_post=Post_eq\n",
    "               )\n",
    "\n",
    "Sy2.connect()\n",
    "G2.v = V_rest\n",
    "G2.v_lowpass1 = V_rest\n",
    "G2.v_lowpass2 = V_rest\n",
    "G2v_homeo = 0\n",
    "G2.I_ext = 0.*amp\n",
    "G2.x_trace = 0.\n",
    "G2.v = V_rest\n",
    "Sy2.w_ampa = init_weight\n",
    "S1 = SpikeMonitor(SG)\n",
    "S2 = SpikeMonitor(G2)\n",
    "S3 = SpikeMonitor(add)\n",
    "net = Network(collect())"
   ]
  },
  {
   "cell_type": "code",
   "execution_count": 5,
   "id": "164344b1",
   "metadata": {
    "scrolled": true
   },
   "outputs": [
    {
     "name": "stdout",
     "output_type": "stream",
     "text": [
      "Starting simulation at t=0. s for a duration of 32. ms\n",
      "32. ms (100%) simulated in 4s\n",
      "Starting simulation at t=32. ms for a duration of 32. ms\n",
      "32. ms (100%) simulated in 4s\n",
      "Starting simulation at t=64. ms for a duration of 32. ms\n",
      "32. ms (100%) simulated in 4s\n",
      "Starting simulation at t=96. ms for a duration of 32. ms\n",
      "32. ms (100%) simulated in 4s\n",
      "Starting simulation at t=128. ms for a duration of 44. ms\n",
      "44. ms (100%) simulated in 6s\n",
      "Starting simulation at t=172. ms for a duration of 44. ms\n",
      "44. ms (100%) simulated in 6s\n"
     ]
    }
   ],
   "source": [
    "for z in range(iterations):    \n",
    "    G2[spike_digits[z]].rates = 200*Hz\n",
    "    net.run((time_dur[z]//1000+10) * ms, report = 'text')\n",
    "    G2.rates = 0 * Hz\n",
    "    net.run((time_dur[z]//1000+10) * ms, report = 'text')"
   ]
  },
  {
   "cell_type": "code",
   "execution_count": 6,
   "id": "d71fd46c",
   "metadata": {},
   "outputs": [
    {
     "data": {
      "image/png": "[encoded data removed]",
      "text/plain": [
       "<Figure size 432x288 with 1 Axes>"
      ]
     },
     "metadata": {
      "needs_background": "light"
     },
     "output_type": "display_data"
    }
   ],
   "source": [
    "c = 0\n",
    "d = 10+time_dur[c]//1000\n",
    "predictions = []\n",
    "spike_list = [0,0,0,0,0,0,0,0,0,0]\n",
    "for z in range(len(S2.t/ms)):\n",
    "    if(S2.t[z]/ms>d and S2.t[z]/ms<d+10+time_dur[c]//1000):\n",
    "        spike_list[S2.i[z]]+=1\n",
    "    elif(S2.t[z]/ms>d+10+time_dur[c]//1000):\n",
    "        d += 10+time_dur[c]//1000\n",
    "        if(c<len(time_dur)-1):\n",
    "            c += 1\n",
    "        d += 10+time_dur[c]//1000\n",
    "        predictions.append(np.argmax(spike_list))\n",
    "        spike_list = [0,0,0,0,0,0,0,0,0,0]\n",
    "predictions.append(np.argmax(spike_list))\n",
    "\n",
    "tot_dig = 0\n",
    "corr = 0\n",
    "recall = [100]\n",
    "for z in range(len(spike_digits)):\n",
    "    if(predictions[z]==spike_digits[z]):\n",
    "        corr += 1\n",
    "    tot_dig += 1\n",
    "    recall.append((100*corr)/tot_dig)\n",
    "\n",
    "plot(recall)\n",
    "xlabel('No. of digits')\n",
    "ylabel('Recall');  "
   ]
  },
  {
   "cell_type": "code",
   "execution_count": 7,
   "id": "dfa60f8f",
   "metadata": {},
   "outputs": [
    {
     "data": {
      "text/plain": [
       "[2, 2, 0]"
      ]
     },
     "execution_count": 7,
     "metadata": {},
     "output_type": "execute_result"
    }
   ],
   "source": [
    "predictions"
   ]
  },
  {
   "cell_type": "code",
   "execution_count": 8,
   "id": "9af32c35",
   "metadata": {},
   "outputs": [
    {
     "data": {
      "text/plain": [
       "[2, 5, 7]"
      ]
     },
     "execution_count": 8,
     "metadata": {},
     "output_type": "execute_result"
    }
   ],
   "source": [
    "spike_digits"
   ]
  },
  {
   "cell_type": "code",
   "execution_count": 9,
   "id": "8bf35581",
   "metadata": {
    "scrolled": false
   },
   "outputs": [
    {
     "data": {
      "image/png": "[encoded data removed]",
      "text/plain": [
       "<Figure size 432x288 with 1 Axes>"
      ]
     },
     "metadata": {
      "needs_background": "light"
     },
     "output_type": "display_data"
    }
   ],
   "source": [
    "plot(S2.t/ms, S2.i, '.k')\n",
    "xlabel('Time (ms)')\n",
    "ylabel('index');"
   ]
  },
  {
   "cell_type": "code",
   "execution_count": 10,
   "id": "08d74d98",
   "metadata": {},
   "outputs": [
    {
     "data": {
      "image/png": "[encoded data removed]",
      "text/plain": [
       "<Figure size 432x288 with 1 Axes>"
      ]
     },
     "metadata": {
      "needs_background": "light"
     },
     "output_type": "display_data"
    }
   ],
   "source": [
    "plot(S3.t/ms, S3.i, '.k')\n",
    "xlabel('Time (ms)')\n",
    "ylabel('index');"
   ]
  },
  {
   "cell_type": "code",
   "execution_count": 11,
   "id": "01dd6169",
   "metadata": {},
   "outputs": [
    {
     "data": {
      "image/png": "[encoded data removed]",
      "text/plain": [
       "<Figure size 432x288 with 1 Axes>"
      ]
     },
     "metadata": {
      "needs_background": "light"
     },
     "output_type": "display_data"
    }
   ],
   "source": [
    "plot(S1.t/ms, S1.i, '.k')\n",
    "xlabel('Time (ms)')\n",
    "ylabel('index');"
   ]
  },
  {
   "cell_type": "code",
   "execution_count": null,
   "id": "3c71a17b",
   "metadata": {},
   "outputs": [],
   "source": []
  }
 ],
 "metadata": {
  "kernelspec": {
   "display_name": "Python 3",
   "language": "python",
   "name": "python3"
  },
  "language_info": {
   "codemirror_mode": {
    "name": "ipython",
    "version": 3
   },
   "file_extension": ".py",
   "mimetype": "text/x-python",
   "name": "python",
   "nbconvert_exporter": "python",
   "pygments_lexer": "ipython3",
   "version": "3.8.3"
  }
 },
 "nbformat": 4,
 "nbformat_minor": 5
}
