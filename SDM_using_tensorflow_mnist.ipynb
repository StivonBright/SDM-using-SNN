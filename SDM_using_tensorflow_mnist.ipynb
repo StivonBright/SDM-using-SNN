{
 "cells": [
  {
   "cell_type": "code",
   "execution_count": 2,
   "id": "829059f4",
   "metadata": {},
   "outputs": [],
   "source": [
    "import tensorflow as tf\n",
    "import numpy as np\n",
    "from matplotlib import pyplot as plt"
   ]
  },
  {
   "cell_type": "code",
   "execution_count": 3,
   "id": "ed1a4e7b",
   "metadata": {},
   "outputs": [],
   "source": [
    "mnist = tf.keras.datasets.mnist\n",
    "\n",
    "(x_train,y_train) , (x_test,y_test) = mnist.load_data()"
   ]
  },
  {
   "cell_type": "code",
   "execution_count": 4,
   "id": "7188233b",
   "metadata": {},
   "outputs": [],
   "source": [
    "x_t_14 = np.empty(shape=[0,28])\n",
    "x_t_6 = np.empty(shape=[0,28])\n",
    "y_t = np.empty(shape=[0,10])\n",
    "\n",
    "for i in y_train:\n",
    "    x=np.zeros(10)\n",
    "    x[i]=1\n",
    "    y_t = np.append(y_t, x)\n",
    "\n",
    "for i in x_train:\n",
    "    temp = []\n",
    "    for x in i:\n",
    "        temp.append(sum(x))\n",
    "    temp_arg = np.argsort(temp)\n",
    "    temp2 = np.zeros(28)\n",
    "    for x in range(len(temp_arg)):\n",
    "        if temp_arg[x] < 14:\n",
    "            temp[x] = 1\n",
    "        else:\n",
    "            temp[x] = 0\n",
    "            \n",
    "        if temp_arg[x] < 6:\n",
    "            temp2[x] = 1\n",
    "    x_t_14 = np.append(x_t_14, temp)\n",
    "    x_t_6 = np.append(x_t_6, temp2)\n",
    "    \n",
    "x_t_14 = x_t_14.reshape(60000,28)\n",
    "x_t_6 = x_t_6.reshape(60000,28)\n",
    "y_t = y_t.reshape(60000,10)"
   ]
  },
  {
   "cell_type": "code",
   "execution_count": 35,
   "id": "8902a02e",
   "metadata": {
    "scrolled": false
   },
   "outputs": [
    {
     "data": {
      "text/plain": [
       "<tensorflow.python.training.tracking.util.CheckpointLoadStatus at 0x65b12400>"
      ]
     },
     "execution_count": 35,
     "metadata": {},
     "output_type": "execute_result"
    }
   ],
   "source": [
    "model = tf.keras.Sequential()\n",
    "model.add(tf.keras.layers.Dense(2500, input_shape=(28,),activation='relu')) \n",
    "model.add(tf.keras.layers.Dense(10, activation='softmax')) \n",
    "model.load_weights(\"cp_2500n_sum_14.ckpt\")\n",
    "\n",
    "model2 = tf.keras.Sequential()\n",
    "model2.add(tf.keras.layers.Dense(1500, input_shape=(28,),activation='relu')) \n",
    "model2.add(tf.keras.layers.Dense(10, activation='softmax')) \n",
    "model2.load_weights(\"cp_1500n_sum_6.ckpt\")\n",
    "\n",
    "model3 = tf.keras.Sequential()\n",
    "model3.add(tf.keras.layers.Dense(1500, input_shape=(28,),activation='relu')) \n",
    "model3.add(tf.keras.layers.Dense(10, activation='softmax')) \n",
    "model3.load_weights(\"cp_1500n_sum_14.ckpt\")\n",
    "\n",
    "model4 = tf.keras.Sequential()\n",
    "model4.add(tf.keras.layers.Dense(1500, input_shape=(28,),activation='relu')) \n",
    "model4.add(tf.keras.layers.Dense(10, activation='softmax')) \n",
    "model4.load_weights(\"cp_1500n_max_6.ckpt\")\n",
    "\n",
    "model5 = tf.keras.Sequential()\n",
    "model5.add(tf.keras.layers.Dense(1500, input_shape=(28,),activation='relu')) \n",
    "model5.add(tf.keras.layers.Dense(10, activation='softmax')) \n",
    "model5.load_weights(\"cp_1500n_diff_6.ckpt\")"
   ]
  },
  {
   "cell_type": "code",
   "execution_count": 49,
   "id": "48cf6f94",
   "metadata": {
    "scrolled": true
   },
   "outputs": [
    {
     "name": "stdout",
     "output_type": "stream",
     "text": [
      "The Accuracy of 14 0f 28 by sum with 2500 neurons: 91 %\n",
      "The Accuracy of 14 0f 28 by sum with 1500 neurons: 83 %\n",
      "The Accuracy of 6 0f 28  by sum with 1500 neurons: 44 %\n",
      "The Accuracy of 6 0f 28  by max with 1500 neurons: 35 %\n",
      "The Accuracy of 6 0f 28 by difference with 1500 neurons: 36 %\n"
     ]
    }
   ],
   "source": [
    "y_results = model.predict(x_t_14,verbose=0)\n",
    "sol = 0\n",
    "for i in range(len(y_t)):\n",
    "    if np.argmax(y_results[i]) == y_train[i]:\n",
    "        sol+=1\n",
    "print(\"The Accuracy of 14 0f 28 by sum with 2500 neurons:\",round(sol/len(x_t_14)*100),\"%\")\n",
    "\n",
    "y_results = model3.predict(x_t_14,verbose=0)\n",
    "sol = 0\n",
    "for i in range(len(y_t)):\n",
    "    if np.argmax(y_results[i]) == y_train[i]:\n",
    "        sol+=1\n",
    "print(\"The Accuracy of 14 0f 28 by sum with 1500 neurons:\",round(sol/len(x_t_14)*100),\"%\")\n",
    "\n",
    "\n",
    "y_results = model2.predict(x_t_6,verbose=0)\n",
    "sol = 0\n",
    "for i in range(len(y_t)):\n",
    "    if np.argmax(y_results[i]) == y_train[i]:\n",
    "        sol+=1\n",
    "print(\"The Accuracy of 6 0f 28  by sum with 1500 neurons:\",round(sol/len(x_t_6)*100),\"%\")\n",
    "\n",
    "\n",
    "\n",
    "y_results = model4.predict(x_t_6,verbose=0)\n",
    "sol = 0\n",
    "for i in range(len(y_t)):\n",
    "    if np.argmax(y_results[i]) == y_train[i]:\n",
    "        sol+=1\n",
    "print(\"The Accuracy of 6 0f 28  by max with 1500 neurons:\",round(sol/len(x_t_6)*100),\"%\")\n",
    "\n",
    "y_results = model5.predict(x_t_6,verbose=0)\n",
    "sol = 0\n",
    "for i in range(len(y_t)):\n",
    "    if np.argmax(y_results[i]) == y_train[i]:\n",
    "        sol+=1\n",
    "print(\"The Accuracy of 6 0f 28 by difference with 1500 neurons:\",round(sol/len(x_t_6)*100),\"%\")"
   ]
  },
  {
   "cell_type": "code",
   "execution_count": 40,
   "id": "e9012a7c",
   "metadata": {},
   "outputs": [],
   "source": [
    "y_te = np.empty(shape=[0,10])\n",
    "for i in y_test:\n",
    "    x=np.zeros(10)\n",
    "    x[i]=1\n",
    "    y_te = np.append(y_te, x)\n",
    "\n",
    "x_te_14 = np.empty(shape=[0,28])\n",
    "x_te_6 = np.empty(shape=[0,28])\n",
    "for i in x_test:\n",
    "    temp = []\n",
    "    for x in i:\n",
    "        temp.append(sum(x))\n",
    "    temp_arg = np.argsort(temp)\n",
    "    temp2 = np.zeros(28)\n",
    "    for x in range(len(temp_arg)):\n",
    "        if temp_arg[x] < 14:\n",
    "            temp[x] = 1\n",
    "        else:\n",
    "            temp[x] = 0\n",
    "        if temp_arg[x] < 6:\n",
    "            temp2[x] = 1\n",
    "    x_te_14 = np.append(x_te_14, temp)\n",
    "    x_te_6 = np.append(x_te_6, temp)\n",
    "\n",
    "x_te_14 = x_te_14.reshape(len(x_test),28)\n",
    "x_te_6 = x_te_6.reshape(len(x_test),28)\n",
    "y_te = y_te.reshape(len(y_test),10)"
   ]
  },
  {
   "cell_type": "code",
   "execution_count": 50,
   "id": "b08e78c7",
   "metadata": {},
   "outputs": [
    {
     "name": "stdout",
     "output_type": "stream",
     "text": [
      "The Accuracy of 14 0f 28 by sum with 2500 neurons: 49 %\n",
      "The Accuracy of 14 0f 28 by sum with 1500 neurons: 50 %\n",
      "The Accuracy of 6 0f 28  by sum with 1500 neurons: 14 %\n",
      "The Accuracy of 6 0f 28  by max with 1500 neurons: 10 %\n",
      "The Accuracy of 6 0f 28 by difference with 1500 neurons: 11 %\n"
     ]
    }
   ],
   "source": [
    "y_results = model.predict(x_te_14,verbose=0)\n",
    "sol = 0\n",
    "for i in range(len(y_te)):\n",
    "    if np.argmax(y_results[i]) == y_test[i]:\n",
    "        sol+=1\n",
    "print(\"The Accuracy of 14 0f 28 by sum with 2500 neurons:\",round(sol/len(x_te_14)*100),\"%\")\n",
    "\n",
    "y_results = model3.predict(x_te_14,verbose=0)\n",
    "sol = 0\n",
    "for i in range(len(y_te)):\n",
    "    if np.argmax(y_results[i]) == y_test[i]:\n",
    "        sol+=1\n",
    "print(\"The Accuracy of 14 0f 28 by sum with 1500 neurons:\",round(sol/len(x_te_14)*100),\"%\")\n",
    "\n",
    "\n",
    "y_results = model2.predict(x_te_6,verbose=0)\n",
    "sol = 0\n",
    "for i in range(len(y_te)):\n",
    "    if np.argmax(y_results[i]) == y_test[i]:\n",
    "        sol+=1\n",
    "print(\"The Accuracy of 6 0f 28  by sum with 1500 neurons:\",round(sol/len(x_te_6)*100),\"%\")\n",
    "\n",
    "\n",
    "y_results = model4.predict(x_te_6,verbose=0)\n",
    "sol = 0\n",
    "for i in range(len(y_te)):\n",
    "    if np.argmax(y_results[i]) == y_test[i]:\n",
    "        sol+=1\n",
    "print(\"The Accuracy of 6 0f 28  by max with 1500 neurons:\",round(sol/len(x_te_6)*100),\"%\")\n",
    "\n",
    "y_results = model5.predict(x_te_6,verbose=0)\n",
    "sol = 0\n",
    "for i in range(len(y_te)):\n",
    "    if np.argmax(y_results[i]) == y_test[i]:\n",
    "        sol+=1\n",
    "print(\"The Accuracy of 6 0f 28 by difference with 1500 neurons:\",round(sol/len(x_te_6)*100),\"%\")"
   ]
  },
  {
   "cell_type": "code",
   "execution_count": 48,
   "id": "798dbc3a",
   "metadata": {
    "scrolled": false
   },
   "outputs": [
    {
     "name": "stdout",
     "output_type": "stream",
     "text": [
      "For Training Data:\n",
      "(14 0f 28 by sum with 2500 neurons) Predicted value : 9  Actual value : 4\n",
      "(6 0f 28 by sum with 1500 neurons)  Predicted value : 9  Actual value : 4\n",
      "(14 0f 28 by sum with 1500 neurons) Predicted value : 9  Actual value : 4\n"
     ]
    },
    {
     "data": {
      "image/png": "[encoded data removed]",
      "text/plain": [
       "<Figure size 432x288 with 1 Axes>"
      ]
     },
     "metadata": {
      "needs_background": "light"
     },
     "output_type": "display_data"
    }
   ],
   "source": [
    "i = np.random.randint(len(x_train))\n",
    "\n",
    "temp = []\n",
    "for x in x_train[i]:\n",
    "    temp.append(sum(x))\n",
    "    temp_arg = np.argsort(temp)\n",
    "    temp2 = np.zeros(28)\n",
    "for x in range(len(temp_arg)):\n",
    "    if temp_arg[x] < 14:\n",
    "            temp[x] = 1\n",
    "    else:\n",
    "            temp[x] = 0\n",
    "            \n",
    "    if temp_arg[x] < 6:\n",
    "            temp2[x] = 1\n",
    "\n",
    "result = model.predict(np.array([temp], dtype=np.float32), verbose=0)\n",
    "result2 = model2.predict(np.array([temp2], dtype=np.float32), verbose=0)\n",
    "result3 = model3.predict(np.array([temp], dtype=np.float32), verbose=0)\n",
    "print(\"For Training Data:\")\n",
    "print(\"(14 0f 28 by sum with 2500 neurons) Predicted value :\",np.argmax(result),\" Actual value :\",y_train[i])\n",
    "print(\"(6 0f 28 by sum with 1500 neurons)  Predicted value :\",np.argmax(result2),\" Actual value :\",y_train[i])\n",
    "print(\"(14 0f 28 by sum with 1500 neurons) Predicted value :\",np.argmax(result3),\" Actual value :\",y_train[i])\n",
    "\n",
    "plt.imshow(x_train[i], cmap = 'magma')\n",
    "plt.show()"
   ]
  },
  {
   "cell_type": "code",
   "execution_count": null,
   "id": "0db1adcd",
   "metadata": {},
   "outputs": [],
   "source": []
  },
  {
   "cell_type": "code",
   "execution_count": 45,
   "id": "523ccbfd",
   "metadata": {
    "scrolled": true
   },
   "outputs": [
    {
     "name": "stdout",
     "output_type": "stream",
     "text": [
      "For Testing Data:\n",
      "(14 0f 28 by sum with 2500 neurons) Predicted value : 1  Actual value : 4\n",
      "(6 0f 28 by sum with 1500 neurons)  Predicted value : 2  Actual value : 4\n",
      "(14 0f 28 by sum with 1500 neurons) Predicted value : 1  Actual value : 4\n"
     ]
    },
    {
     "data": {
      "image/png": "[encoded data removed]",
      "text/plain": [
       "<Figure size 432x288 with 1 Axes>"
      ]
     },
     "metadata": {
      "needs_background": "light"
     },
     "output_type": "display_data"
    }
   ],
   "source": [
    "i = np.random.randint(len(x_test))\n",
    "\n",
    "temp = []\n",
    "for x in x_test[i]:\n",
    "    temp.append(sum(x))\n",
    "    temp_arg = np.argsort(temp)\n",
    "    temp2 = np.zeros(28)\n",
    "for x in range(len(temp_arg)):\n",
    "    if temp_arg[x] < 14:\n",
    "            temp[x] = 1\n",
    "    else:\n",
    "            temp[x] = 0\n",
    "            \n",
    "    if temp_arg[x] < 6:\n",
    "            temp2[x] = 1\n",
    "\n",
    "result = model.predict(np.array([temp], dtype=np.float32), verbose=0)\n",
    "result2 = model2.predict(np.array([temp2], dtype=np.float32), verbose=0)\n",
    "result3 = model3.predict(np.array([temp], dtype=np.float32), verbose=0)\n",
    "print(\"For Testing Data:\")\n",
    "print(\"(14 0f 28 by sum with 2500 neurons) Predicted value :\",np.argmax(result),\" Actual value :\",y_test[i])\n",
    "print(\"(6 0f 28 by sum with 1500 neurons)  Predicted value :\",np.argmax(result2),\" Actual value :\",y_test[i])\n",
    "print(\"(14 0f 28 by sum with 1500 neurons) Predicted value :\",np.argmax(result3),\" Actual value :\",y_test[i])\n",
    "\n",
    "plt.imshow(x_test[i], cmap = 'magma')\n",
    "plt.show()"
   ]
  },
  {
   "cell_type": "code",
   "execution_count": 5,
   "id": "337fe421",
   "metadata": {},
   "outputs": [],
   "source": [
    "model = tf.keras.Sequential()\n",
    "model.add(tf.keras.layers.Dense(100, input_shape=(28,),activation='relu',trainable=False))\n",
    "model.add(tf.keras.layers.Dense(10, activation='softmax')) \n",
    "model.compile(optimizer='adam', loss='categorical_crossentropy', metrics=['accuracy'])"
   ]
  },
  {
   "cell_type": "code",
   "execution_count": null,
   "id": "e027e22a",
   "metadata": {},
   "outputs": [
    {
     "name": "stdout",
     "output_type": "stream",
     "text": [
      "The Accuracy of 14 0f 28 by sum with 100 neurons trained on 10  samples : 100 %\n",
      "The Accuracy of 14 0f 28 by sum with 100 neurons trained on 20  samples : 100 %\n",
      "The Accuracy of 14 0f 28 by sum with 100 neurons trained on 30  samples : 100 %\n",
      "The Accuracy of 14 0f 28 by sum with 100 neurons trained on 40  samples : 100 %\n",
      "The Accuracy of 14 0f 28 by sum with 100 neurons trained on 50  samples : 100 %\n",
      "The Accuracy of 14 0f 28 by sum with 100 neurons trained on 60  samples : 100 %\n",
      "The Accuracy of 14 0f 28 by sum with 100 neurons trained on 70  samples : 100 %\n",
      "The Accuracy of 14 0f 28 by sum with 100 neurons trained on 80  samples : 100 %\n",
      "The Accuracy of 14 0f 28 by sum with 100 neurons trained on 90  samples : 100 %\n",
      "The Accuracy of 14 0f 28 by sum with 100 neurons trained on 100  samples : 100 %\n",
      "The Accuracy of 14 0f 28 by sum with 100 neurons trained on 110  samples : 100 %\n",
      "The Accuracy of 14 0f 28 by sum with 100 neurons trained on 120  samples : 100 %\n",
      "The Accuracy of 14 0f 28 by sum with 100 neurons trained on 130  samples : 100 %\n",
      "The Accuracy of 14 0f 28 by sum with 100 neurons trained on 140  samples : 99 %\n",
      "The Accuracy of 14 0f 28 by sum with 100 neurons trained on 150  samples : 99 %\n",
      "The Accuracy of 14 0f 28 by sum with 100 neurons trained on 160  samples : 99 %\n",
      "The Accuracy of 14 0f 28 by sum with 100 neurons trained on 170  samples : 99 %\n",
      "The Accuracy of 14 0f 28 by sum with 100 neurons trained on 180  samples : 99 %\n",
      "The Accuracy of 14 0f 28 by sum with 100 neurons trained on 190  samples : 99 %\n",
      "The Accuracy of 14 0f 28 by sum with 100 neurons trained on 200  samples : 100 %\n",
      "The Accuracy of 14 0f 28 by sum with 100 neurons trained on 210  samples : 100 %\n",
      "The Accuracy of 14 0f 28 by sum with 100 neurons trained on 220  samples : 100 %\n",
      "The Accuracy of 14 0f 28 by sum with 100 neurons trained on 230  samples : 100 %\n",
      "The Accuracy of 14 0f 28 by sum with 100 neurons trained on 240  samples : 100 %\n"
     ]
    }
   ],
   "source": [
    "p_x = []\n",
    "p_y = []\n",
    "for i in range(100):\n",
    "    j = (i+1) * 10\n",
    "    x = x_t_14[:j]\n",
    "    y = y_t[:j]\n",
    "    model.fit(x, y, epochs=1, batch_size=10, verbose=0)\n",
    "    y_results = model.predict(x_t_14,verbose=0)\n",
    "    sol = 0\n",
    "    for k in range(j):\n",
    "        if np.argmax(y_results[k]) == y_train[k]:\n",
    "            sol+=1\n",
    "            continue\n",
    "        y_results[k][np.argmax(y_results[k])] = 0\n",
    "        if np.argmax(y_results[k]) == y_train[k]:\n",
    "            sol+=1\n",
    "            continue\n",
    "        y_results[k][np.argmax(y_results[k])] = 0\n",
    "        if np.argmax(y_results[k]) == y_train[k]:\n",
    "            sol+=1\n",
    "            continue\n",
    "            \n",
    "    print(\"The Accuracy of 14 0f 28 by sum with 100 neurons trained on\",j,\" samples :\",round((sol/j)*100),\"%\")\n",
    "    p_y.append(round((sol/j)*100))\n",
    "    p_x.append(j)"
   ]
  },
  {
   "cell_type": "code",
   "execution_count": 13,
   "id": "b8f1b166",
   "metadata": {},
   "outputs": [
    {
     "data": {
      "text/plain": [
       "[<matplotlib.lines.Line2D at 0x43426a90>]"
      ]
     },
     "execution_count": 13,
     "metadata": {},
     "output_type": "execute_result"
    },
    {
     "data": {
      "image/png": "[encoded data removed]",
      "text/plain": [
       "<Figure size 432x288 with 1 Axes>"
      ]
     },
     "metadata": {
      "needs_background": "light"
     },
     "output_type": "display_data"
    }
   ],
   "source": [
    "ax = plt.gca()\n",
    "ax.set_ylim([0, 100])\n",
    "plt.plot(p_x,p_y)"
   ]
  },
  {
   "cell_type": "code",
   "execution_count": null,
   "id": "b3a03eef",
   "metadata": {},
   "outputs": [],
   "source": []
  }
 ],
 "metadata": {
  "kernelspec": {
   "display_name": "Python 3",
   "language": "python",
   "name": "python3"
  },
  "language_info": {
   "codemirror_mode": {
    "name": "ipython",
    "version": 3
   },
   "file_extension": ".py",
   "mimetype": "text/x-python",
   "name": "python",
   "nbconvert_exporter": "python",
   "pygments_lexer": "ipython3",
   "version": "3.8.3"
  }
 },
 "nbformat": 4,
 "nbformat_minor": 5
}
