{
 "cells": [
  {
   "cell_type": "code",
   "execution_count": 1,
   "id": "6bf094c8",
   "metadata": {},
   "outputs": [],
   "source": [
    "from brian2 import *\n",
    "%matplotlib inline\n",
    "import os,random"
   ]
  },
  {
   "cell_type": "code",
   "execution_count": 370,
   "id": "08a5e0be",
   "metadata": {},
   "outputs": [],
   "source": [
    "sim_time = 400 * ms\n",
    "time_step = 0.001 * ms\n",
    "defaultclock.dt = time_step\n",
    "num_neurons = 34 * 34\n",
    "n_of_m = 100\n",
    "file_loc = \"D://Download/N-MNIST/Train/\"\n",
    "time_dur = []\n",
    "spike_digits = []\n",
    "tot_spike_index = []\n",
    "tot_spike_time = []\n",
    "iterations = 1\n",
    "accu_time = 0\n",
    "interval_time = 5000\n",
    "\n",
    "\n",
    "for z in range(iterations):\n",
    "    digit = random.choice(os.listdir(file_loc))\n",
    "    Bytes = numpy.fromfile(file_loc+'/'+digit+'/'+random.choice(os.listdir(file_loc+'/'+digit)), dtype = \"uint8\")\n",
    "    spike_digits.append(int(digit))\n",
    "    Bits = numpy.unpackbits(Bytes)\n",
    "    Bits = Bits.reshape(int(len(Bits)/40), 40)\n",
    "\n",
    "    counter_n = 0\n",
    "    spike_time = []\n",
    "    spike_index = []\n",
    "    uniq = np.zeros(num_neurons)\n",
    "\n",
    "    for q in Bits:\n",
    "            if(counter_n>=n_of_m):\n",
    "                break\n",
    "            q  = np.flip(q)\n",
    "            tmp = q[:23]\n",
    "            time_stamp = tmp.dot(1 << np.arange(tmp.shape[-1])) \n",
    "            tmp =  q[24:32]\n",
    "            y = tmp.dot(1 << np.arange(tmp.shape[-1]))\n",
    "            tmp = q[32:]\n",
    "            x = tmp.dot(1 << np.arange(tmp.shape[-1]))\n",
    "            ind = (y*34) + x\n",
    "            if(uniq[ind]==0):\n",
    "                counter_n += 1\n",
    "                uniq[ind] = 1\n",
    "                spike_time.append((int)(accu_time+time_stamp))\n",
    "                spike_index.append(ind)\n",
    "    j= []\n",
    "    accu_time += time_stamp + interval_time\n",
    "    for a in spike_time:\n",
    "        j.append(a+time_stamp + interval_time)   \n",
    "    time_dur.append(time_stamp)\n",
    "    accu_time += time_stamp + interval_time\n",
    "    tot_spike_time = tot_spike_time + spike_time + j\n",
    "    tot_spike_index = tot_spike_index + spike_index + spike_index\n",
    "    \n",
    "tot_spike_time *= time_step"
   ]
  },
  {
   "cell_type": "code",
   "execution_count": 371,
   "id": "288ba0a4",
   "metadata": {},
   "outputs": [],
   "source": [
    "vt = -54*mV\n",
    "vr = -60*mV\n",
    "El = -74*mV\n",
    "\n",
    "tau_pre = 38*ms\n",
    "taue = 15*ms\n",
    "\n",
    "\n",
    "taupre = 10*ms\n",
    "taupost = taupre\n",
    "\n",
    "\n",
    "gmax = 14\n",
    "dApre = 1\n",
    "dApost = -dApre * taupre / taupost * 1.05\n",
    "\n",
    "\n",
    "\n",
    "eqs_stdp = '''\n",
    "dv/dt = ( El - v) / tau_pre : volt (unless refractory)\n",
    "rates : Hz\n",
    "'''\n",
    "\n",
    "SG = SpikeGeneratorGroup(num_neurons, tot_spike_index, tot_spike_time)\n",
    "add = NeuronGroup(10000, eqs_stdp,reset='v=vr',threshold='v>vt', refractory=time_step*2 ,method='euler')\n",
    "G2 = NeuronGroup(num_neurons, eqs_stdp,reset='v=vr',threshold='rand()<rates*dt or v>vt', refractory=time_step*5, method='euler')\n",
    "\n",
    "add.v = vr\n",
    "G2.v = vr\n",
    "\n",
    "Sy = Synapses(SG, add,\n",
    "             'w:volt',\n",
    "             on_pre='v_post += w',\n",
    "             )\n",
    "Sy.connect(p=0.0002)\n",
    "Sy.w = 16 * mV\n",
    "\n",
    "Sy2 = Synapses(add, G2,\n",
    "             '''w : 1\n",
    "                dApre/dt = -Apre / taupre : 1 (event-driven)\n",
    "                dApost/dt = -Apost / taupost : 1 (event-driven)''',\n",
    "             on_pre='''v += w*mV\n",
    "                    Apre += dApre\n",
    "                    w = clip(w + Apost, -gmax, gmax)''',\n",
    "             on_post='''\n",
    "                     Apost += dApost\n",
    "                     w = clip(w + Apre, -gmax, gmax)''',\n",
    "             )\n",
    "Sy3 = Synapses(G2, add,\n",
    "             '''w : 1\n",
    "                dApre/dt = -Apre / taupre : 1 (event-driven)\n",
    "                dApost/dt = -Apost / taupost : 1 (event-driven)''',\n",
    "             on_pre='''\n",
    "                    Apre += dApre\n",
    "                    w = clip(w + Apost, -gmax, gmax)''',\n",
    "             on_post='''\n",
    "                     Apost += dApost\n",
    "                     w = clip(w + Apre, -gmax, gmax)''',\n",
    "             )\n",
    "\n",
    "\n",
    "Sy2.connect()\n",
    "Sy3.connect()\n",
    "\n",
    "Sy2.w = 'gmax-(rand()*2*gmax)'\n",
    "Sy3.w = 'gmax-(rand()*2*gmax)'\n",
    "\n",
    "S1 = SpikeMonitor(SG)\n",
    "S2 = SpikeMonitor(G2)\n",
    "S3 = SpikeMonitor(add)\n",
    "net = Network(collect())"
   ]
  },
  {
   "cell_type": "code",
   "execution_count": 372,
   "id": "e3ea1f23",
   "metadata": {
    "scrolled": true
   },
   "outputs": [
    {
     "name": "stdout",
     "output_type": "stream",
     "text": [
      "Starting simulation at t=0. s for a duration of 39. ms\n",
      "6.34 ms (16%) simulated in 10s, estimated 52s remaining.\n",
      "9.43 ms (24%) simulated in 20s, estimated 1m 3s remaining.\n",
      "13.095 ms (33%) simulated in 30s, estimated 1m 0s remaining.\n",
      "16.513 ms (42%) simulated in 40s, estimated 56s remaining.\n",
      "19.872 ms (50%) simulated in 51s, estimated 49s remaining.\n",
      "23.335 ms (59%) simulated in 1m 2s, estimated 42s remaining.\n",
      "25.757 ms (66%) simulated in 1m 12s, estimated 37s remaining.\n",
      "27.887 ms (71%) simulated in 1m 22s, estimated 33s remaining.\n",
      "29.426 ms (75%) simulated in 1m 32s, estimated 30s remaining.\n",
      "30.965 ms (79%) simulated in 1m 42s, estimated 27s remaining.\n",
      "32.514 ms (83%) simulated in 1m 53s, estimated 23s remaining.\n",
      "34.552 ms (88%) simulated in 2m 3s, estimated 16s remaining.\n",
      "39. ms (100%) simulated in 2m 5s\n",
      "Starting simulation at t=39. ms for a duration of 39. ms\n",
      "7.791 ms (19%) simulated in 11s, estimated 46s remaining.\n",
      "12.968 ms (33%) simulated in 23s, estimated 46s remaining.\n",
      "14.259 ms (36%) simulated in 33s, estimated 57s remaining.\n",
      "17.463 ms (44%) simulated in 43s, estimated 53s remaining.\n",
      "20.697 ms (53%) simulated in 53s, estimated 47s remaining.\n",
      "23.95 ms (61%) simulated in 1m 4s, estimated 40s remaining.\n",
      "25.797 ms (66%) simulated in 1m 14s, estimated 38s remaining.\n",
      "27.444 ms (70%) simulated in 1m 24s, estimated 36s remaining.\n",
      "29.787 ms (76%) simulated in 1m 34s, estimated 29s remaining.\n",
      "30.727 ms (78%) simulated in 1m 46s, estimated 29s remaining.\n",
      "32.082 ms (82%) simulated in 1m 56s, estimated 25s remaining.\n",
      "33.464 ms (85%) simulated in 2m 6s, estimated 21s remaining.\n",
      "34.829 ms (89%) simulated in 2m 17s, estimated 16s remaining.\n",
      "39. ms (100%) simulated in 2m 25s\n"
     ]
    }
   ],
   "source": [
    "for z in range(iterations):    \n",
    "    net.run(((time_dur[z]+interval_time)//1000) * ms, report = 'text')\n",
    "    Sy2.w += Sy3.w\n",
    "    net.run(((time_dur[z]+interval_time)//1000) * ms, report = 'text')"
   ]
  },
  {
   "cell_type": "code",
   "execution_count": null,
   "id": "f5aea741",
   "metadata": {},
   "outputs": [],
   "source": [
    "c = 0\n",
    "d = (interval_time+time_dur[c])//1000\n",
    "predictions1 = []\n",
    "predictions2 = []\n",
    "predictions3 = []\n",
    "spike_list = [0,0,0,0,0,0,0,0,0,0]\n",
    "for z in range(len(S2.t/ms)):\n",
    "    if(S2.t[z]/ms>d and S2.t[z]/ms<d+(interval_time+time_dur[c])//1000):\n",
    "        spike_list[S2.i[z]]+=1\n",
    "    elif(S2.t[z]/ms>d+(interval_time+time_dur[c])//1000):\n",
    "        d += (interval_time+time_dur[c])//1000\n",
    "        if(c<len(time_dur)-1):\n",
    "            c += 1\n",
    "        d += (interval_time+time_dur[c])//1000\n",
    "        predictions1.append(np.argmax(spike_list))\n",
    "        spike_list[np.argmax(spike_list)] = 0\n",
    "        predictions2.append(np.argmax(spike_list))\n",
    "        spike_list[np.argmax(spike_list)] = 0\n",
    "        predictions3.append(np.argmax(spike_list))\n",
    "        spike_list = [0,0,0,0,0,0,0,0,0,0]\n",
    "predictions1.append(np.argmax(spike_list))\n",
    "spike_list[np.argmax(spike_list)] = 0\n",
    "predictions2.append(np.argmax(spike_list))\n",
    "spike_list[np.argmax(spike_list)] = 0\n",
    "predictions3.append(np.argmax(spike_list))"
   ]
  },
  {
   "cell_type": "code",
   "execution_count": 373,
   "id": "973d3d2a",
   "metadata": {
    "scrolled": true
   },
   "outputs": [
    {
     "data": {
      "image/png": "[encoded data removed]",
      "text/plain": [
       "<Figure size 432x288 with 1 Axes>"
      ]
     },
     "metadata": {
      "needs_background": "light"
     },
     "output_type": "display_data"
    }
   ],
   "source": [
    "plot(S2.t/ms, S2.i, '.k')\n",
    "xlabel('Time (ms)')\n",
    "ylabel('index');"
   ]
  },
  {
   "cell_type": "code",
   "execution_count": 374,
   "id": "a0181a6f",
   "metadata": {},
   "outputs": [
    {
     "data": {
      "image/png": "[encoded data removed]",
      "text/plain": [
       "<Figure size 432x288 with 1 Axes>"
      ]
     },
     "metadata": {
      "needs_background": "light"
     },
     "output_type": "display_data"
    }
   ],
   "source": [
    "plot(S1.t/ms, S1.i, '.k')\n",
    "xlabel('Time (ms)')\n",
    "ylabel('index');"
   ]
  },
  {
   "cell_type": "code",
   "execution_count": null,
   "id": "3db9066f",
   "metadata": {},
   "outputs": [],
   "source": [
    "tot_dig = 0\n",
    "corr = 0\n",
    "recall = [100]\n",
    "for z in range(len(spike_digits)):\n",
    "    if(predictions1[z]==spike_digits[z] or predictions2[z]==spike_digits[z] or predictions3[z]==spike_digits[z]):\n",
    "        corr += 1\n",
    "    tot_dig += 1\n",
    "    recall.append((100*corr)/tot_dig)\n",
    "\n",
    "plot(recall)\n",
    "xlabel('No. of digits')\n",
    "ylabel('Recall');  "
   ]
  },
  {
   "cell_type": "code",
   "execution_count": null,
   "id": "3c9069f0",
   "metadata": {
    "scrolled": false
   },
   "outputs": [],
   "source": [
    "spike_digits"
   ]
  },
  {
   "cell_type": "code",
   "execution_count": null,
   "id": "0f2371a2",
   "metadata": {},
   "outputs": [],
   "source": [
    "predictions1"
   ]
  },
  {
   "cell_type": "code",
   "execution_count": null,
   "id": "d8f37423",
   "metadata": {},
   "outputs": [],
   "source": [
    "plot(S3.t/ms, S3.i, '.k')\n",
    "xlabel('Time (ms)')\n",
    "ylabel('index');"
   ]
  },
  {
   "cell_type": "code",
   "execution_count": 336,
   "id": "d43e96b6",
   "metadata": {},
   "outputs": [
    {
     "data": {
      "text/plain": [
       "1162"
      ]
     },
     "execution_count": 336,
     "metadata": {},
     "output_type": "execute_result"
    }
   ],
   "source": [
    "len(S3.t)"
   ]
  },
  {
   "cell_type": "code",
   "execution_count": null,
   "id": "7ec3a2fc",
   "metadata": {},
   "outputs": [],
   "source": []
  }
 ],
 "metadata": {
  "kernelspec": {
   "display_name": "Python 3",
   "language": "python",
   "name": "python3"
  },
  "language_info": {
   "codemirror_mode": {
    "name": "ipython",
    "version": 3
   },
   "file_extension": ".py",
   "mimetype": "text/x-python",
   "name": "python",
   "nbconvert_exporter": "python",
   "pygments_lexer": "ipython3",
   "version": "3.8.3"
  }
 },
 "nbformat": 4,
 "nbformat_minor": 5
}
