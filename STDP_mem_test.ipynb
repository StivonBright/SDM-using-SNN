{
 "cells": [
  {
   "cell_type": "code",
   "execution_count": 1,
   "id": "1083f927",
   "metadata": {},
   "outputs": [],
   "source": [
    "from brian2 import *\n",
    "%matplotlib inline\n",
    "import os,random\n"
   ]
  },
  {
   "cell_type": "code",
   "execution_count": 5,
   "id": "8fee09e6",
   "metadata": {},
   "outputs": [],
   "source": [
    "sim_time = 400 * ms\n",
    "time_step = 0.001 * ms\n",
    "defaultclock.dt = time_step\n",
    "num_neurons = 34 * 34\n",
    "n_of_m = 100\n",
    "file_loc = \"D://Download/N-MNIST/Train/\"\n",
    "time_dur = []\n",
    "spike_digits = []\n",
    "tot_spike_index = []\n",
    "tot_spike_time = []\n",
    "iterations = 3\n",
    "accu_time = 0\n",
    "\n",
    "\n",
    "for z in range(iterations):\n",
    "    digit = random.choice(os.listdir(file_loc))\n",
    "    Bytes = numpy.fromfile(file_loc+'/'+digit+'/'+random.choice(os.listdir(file_loc+'/'+digit)), dtype = \"uint8\")\n",
    "    spike_digits.append(int(digit))\n",
    "    Bits = numpy.unpackbits(Bytes)\n",
    "    Bits = Bits.reshape(int(len(Bits)/40), 40)\n",
    "\n",
    "    prev_ts = 0\n",
    "    prev_ind = 0\n",
    "    counter_n = 0\n",
    "    spike_time = []\n",
    "    spike_index = []\n",
    "\n",
    "    for q in Bits:\n",
    "            if(counter_n<n_of_m):\n",
    "                counter_n += 1\n",
    "            else:\n",
    "                break\n",
    "            q  = np.flip(q)\n",
    "            tmp = q[:23]\n",
    "            time_stamp = tmp.dot(1 << np.arange(tmp.shape[-1])) \n",
    "            tmp =  q[24:32]\n",
    "            y = tmp.dot(1 << np.arange(tmp.shape[-1]))\n",
    "            tmp = q[32:]\n",
    "            x = tmp.dot(1 << np.arange(tmp.shape[-1]))\n",
    "            ind = (y*34) + x\n",
    "            if(prev_ts!=time_stamp or prev_ind!=ind):\n",
    "                spike_time.append((int)(accu_time+time_stamp))\n",
    "                spike_index.append(ind)\n",
    "            prev_ts = time_stamp\n",
    "            prev_ind = ind\n",
    "    j= []\n",
    "    accu_time += prev_ts + 10000\n",
    "    for a in spike_time:\n",
    "        j.append(a+prev_ts + 10000)   \n",
    "    time_dur.append(prev_ts)\n",
    "    accu_time += prev_ts + 10000\n",
    "    tot_spike_time = tot_spike_time + spike_time + j\n",
    "    tot_spike_index = tot_spike_index + spike_index + spike_index\n",
    "    \n",
    "tot_spike_time *= time_step"
   ]
  },
  {
   "cell_type": "code",
   "execution_count": 6,
   "id": "e01c85be",
   "metadata": {},
   "outputs": [],
   "source": [
    "vt = -54*mV\n",
    "vr = -60*mV\n",
    "El = -74*mV\n",
    "\n",
    "tau_pre = 30*ms\n",
    "taue = 30*ms\n",
    "taupre = 15*ms\n",
    "taupost = taupre\n",
    "\n",
    "\n",
    "gmax = 14\n",
    "dApre = 7\n",
    "dApost = -dApre * taupre / taupost * 1.05\n",
    "\n",
    "\n",
    "\n",
    "eqs_stdp = '''\n",
    "dv/dt = ( El - v) / tau_pre : volt (unless refractory)\n",
    "rates : Hz\n",
    "'''\n",
    "\n",
    "SG = SpikeGeneratorGroup(num_neurons, tot_spike_index, tot_spike_time)\n",
    "add = NeuronGroup(10000, eqs_stdp,reset='v=vr',threshold='v>vt', refractory=time_step*2 ,method='euler')\n",
    "G2 = NeuronGroup(10, eqs_stdp,reset='v=vr',threshold='rand()<rates*dt or v>vt', refractory=time_step*5, method='euler')\n",
    "\n",
    "add.v = vr\n",
    "G2.v = vr\n",
    "\n",
    "Sy = Synapses(SG, add,\n",
    "             'w:volt',\n",
    "             on_pre='v_post += w',\n",
    "             )\n",
    "Sy.connect(p=0.0002)\n",
    "Sy.w = 11 * mV\n",
    "\n",
    "Sy2 = Synapses(add, G2,\n",
    "             '''w : 1\n",
    "                dApre/dt = -Apre / taupre : 1 (event-driven)\n",
    "                dApost/dt = -Apost / taupost : 1 (event-driven)''',\n",
    "             on_pre='''v += w*mV\n",
    "                    Apre += dApre\n",
    "                    w = clip(w + Apost, -gmax, gmax)''',\n",
    "             on_post='''\n",
    "                     Apost += dApost\n",
    "                     w = clip(w + Apre, -gmax, gmax)''',\n",
    "             )\n",
    "Sy3 = Synapses(G2, add,\n",
    "             '''w : 1\n",
    "                dApre/dt = -Apre / taupre : 1 (event-driven)\n",
    "                dApost/dt = -Apost / taupost : 1 (event-driven)''',\n",
    "             on_pre='''\n",
    "                    Apre += dApre\n",
    "                    w = clip(w + Apost, -gmax, gmax)''',\n",
    "             on_post='''\n",
    "                     Apost += dApost\n",
    "                     w = clip(w + Apre, -gmax, gmax)''',\n",
    "             )\n",
    "\n",
    "\n",
    "Sy2.connect()\n",
    "Sy3.connect()\n",
    "S1 = SpikeMonitor(SG)\n",
    "S2 = SpikeMonitor(G2)\n",
    "S3 = SpikeMonitor(add)\n",
    "net = Network(collect())"
   ]
  },
  {
   "cell_type": "code",
   "execution_count": 7,
   "id": "f94abc24",
   "metadata": {
    "scrolled": true
   },
   "outputs": [
    {
     "name": "stdout",
     "output_type": "stream",
     "text": [
      "Starting simulation at t=0. s for a duration of 26. ms\n",
      "26. ms (100%) simulated in 3s\n",
      "Starting simulation at t=26. ms for a duration of 26. ms\n",
      "26. ms (100%) simulated in 3s\n",
      "Starting simulation at t=52. ms for a duration of 29. ms\n",
      "29. ms (100%) simulated in 3s\n",
      "Starting simulation at t=81. ms for a duration of 29. ms\n",
      "29. ms (100%) simulated in 4s\n",
      "Starting simulation at t=110. ms for a duration of 30. ms\n",
      "30. ms (100%) simulated in 4s\n",
      "Starting simulation at t=140. ms for a duration of 30. ms\n",
      "30. ms (100%) simulated in 3s\n"
     ]
    }
   ],
   "source": [
    "for z in range(iterations):    \n",
    "    G2[spike_digits[z]].rates = 300*Hz\n",
    "    net.run((time_dur[z]//1000+10) * ms, report = 'text')\n",
    "    G2.rates = 0 * Hz\n",
    "    net.run((time_dur[z]//1000+10) * ms, report = 'text')"
   ]
  },
  {
   "cell_type": "code",
   "execution_count": 8,
   "id": "5a614aea",
   "metadata": {},
   "outputs": [],
   "source": [
    "c = 0\n",
    "d = 10+time_dur[c]//1000\n",
    "predictions = []\n",
    "spike_list = [0,0,0,0,0,0,0,0,0,0]\n",
    "for z in range(len(S2.t/ms)):\n",
    "    if(S2.t[z]/ms>d and S2.t[z]/ms<d+10+time_dur[c]//1000):\n",
    "        spike_list[S2.i[z]]+=1\n",
    "    elif(S2.t[z]/ms>d+10+time_dur[c]//1000):\n",
    "        d += 10+time_dur[c]//1000\n",
    "        if(c<len(time_dur)-1):\n",
    "            c += 1\n",
    "        d += 10+time_dur[c]//1000\n",
    "        predictions.append(np.argmax(spike_list))\n",
    "        spike_list = [0,0,0,0,0,0,0,0,0,0]\n",
    "predictions.append(np.argmax(spike_list))"
   ]
  },
  {
   "cell_type": "code",
   "execution_count": 9,
   "id": "d0fbc3e0",
   "metadata": {
    "scrolled": true
   },
   "outputs": [
    {
     "data": {
      "image/png": "[encoded data removed]",
      "text/plain": [
       "<Figure size 432x288 with 1 Axes>"
      ]
     },
     "metadata": {
      "needs_background": "light"
     },
     "output_type": "display_data"
    }
   ],
   "source": [
    "plot(S2.t/ms, S2.i, '.k')\n",
    "xlabel('Time (ms)')\n",
    "ylabel('index');"
   ]
  },
  {
   "cell_type": "code",
   "execution_count": 10,
   "id": "4b765539",
   "metadata": {},
   "outputs": [
    {
     "data": {
      "image/png": "[encoded data removed]",
      "text/plain": [
       "<Figure size 432x288 with 1 Axes>"
      ]
     },
     "metadata": {
      "needs_background": "light"
     },
     "output_type": "display_data"
    }
   ],
   "source": [
    "plot(S1.t/ms, S1.i, '.k')\n",
    "xlabel('Time (ms)')\n",
    "ylabel('index');"
   ]
  },
  {
   "cell_type": "code",
   "execution_count": 11,
   "id": "c3d696dc",
   "metadata": {},
   "outputs": [
    {
     "data": {
      "image/png": "[encoded data removed]",
      "text/plain": [
       "<Figure size 432x288 with 1 Axes>"
      ]
     },
     "metadata": {
      "needs_background": "light"
     },
     "output_type": "display_data"
    }
   ],
   "source": [
    "tot_dig = 0\n",
    "corr = 0\n",
    "recall = [100]\n",
    "for z in range(len(spike_digits)):\n",
    "    if(predictions[z]==spike_digits[z]):\n",
    "        corr += 1\n",
    "    tot_dig += 1\n",
    "    recall.append((100*corr)/tot_dig)\n",
    "\n",
    "plot(recall)\n",
    "xlabel('No. of digits')\n",
    "ylabel('Recall');  "
   ]
  },
  {
   "cell_type": "code",
   "execution_count": 12,
   "id": "7e256dbb",
   "metadata": {
    "scrolled": false
   },
   "outputs": [
    {
     "data": {
      "text/plain": [
       "[3, 2, 5]"
      ]
     },
     "execution_count": 12,
     "metadata": {},
     "output_type": "execute_result"
    }
   ],
   "source": [
    "spike_digits"
   ]
  },
  {
   "cell_type": "code",
   "execution_count": 13,
   "id": "87008c9e",
   "metadata": {},
   "outputs": [
    {
     "data": {
      "text/plain": [
       "[3, 2, 0]"
      ]
     },
     "execution_count": 13,
     "metadata": {},
     "output_type": "execute_result"
    }
   ],
   "source": [
    "predictions"
   ]
  },
  {
   "cell_type": "code",
   "execution_count": 14,
   "id": "aefc24a8",
   "metadata": {},
   "outputs": [
    {
     "data": {
      "image/png": "[encoded data removed]",
      "text/plain": [
       "<Figure size 432x288 with 1 Axes>"
      ]
     },
     "metadata": {
      "needs_background": "light"
     },
     "output_type": "display_data"
    }
   ],
   "source": [
    "plot(S3.t/ms, S3.i, '.k')\n",
    "xlabel('Time (ms)')\n",
    "ylabel('index');"
   ]
  },
  {
   "cell_type": "code",
   "execution_count": 15,
   "id": "49b04ef8",
   "metadata": {},
   "outputs": [
    {
     "data": {
      "text/plain": [
       "353"
      ]
     },
     "execution_count": 15,
     "metadata": {},
     "output_type": "execute_result"
    }
   ],
   "source": [
    "len(S3.t)"
   ]
  },
  {
   "cell_type": "code",
   "execution_count": null,
   "id": "8fa3234d",
   "metadata": {},
   "outputs": [],
   "source": []
  }
 ],
 "metadata": {
  "kernelspec": {
   "display_name": "Python 3",
   "language": "python",
   "name": "python3"
  },
  "language_info": {
   "codemirror_mode": {
    "name": "ipython",
    "version": 3
   },
   "file_extension": ".py",
   "mimetype": "text/x-python",
   "name": "python",
   "nbconvert_exporter": "python",
   "pygments_lexer": "ipython3",
   "version": "3.8.3"
  }
 },
 "nbformat": 4,
 "nbformat_minor": 5
}
